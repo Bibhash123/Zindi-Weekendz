{
  "nbformat": 4,
  "nbformat_minor": 0,
  "metadata": {
    "colab": {
      "name": "Zindi-Weekendz-EDA.ipynb",
      "provenance": [],
      "authorship_tag": "ABX9TyOGiFD7oSmvbo/WqHudUB0y",
      "include_colab_link": true
    },
    "kernelspec": {
      "name": "python3",
      "display_name": "Python 3"
    },
    "language_info": {
      "name": "python"
    }
  },
  "cells": [
    {
      "cell_type": "markdown",
      "metadata": {
        "id": "view-in-github",
        "colab_type": "text"
      },
      "source": [
        "<a href=\"https://colab.research.google.com/github/Bibhash123/Zindi-Weekendz/blob/main/Exploratory%20Analysis/Zindi-Weekendz-EDA.ipynb\" target=\"_parent\"><img src=\"https://colab.research.google.com/assets/colab-badge.svg\" alt=\"Open In Colab\"/></a>"
      ]
    },
    {
      "cell_type": "code",
      "execution_count": null,
      "metadata": {
        "id": "7IdmrADwFqVH"
      },
      "outputs": [],
      "source": [
        "import numpy as np\n",
        "import pandas as pd\n",
        "import matplotlib.pyplot as plt\n",
        "import seaborn as sns"
      ]
    },
    {
      "cell_type": "code",
      "source": [
        "train_file = \"\"\n",
        "test_file = \"\""
      ],
      "metadata": {
        "id": "zPo_nRDLFzar"
      },
      "execution_count": null,
      "outputs": []
    }
  ]
}